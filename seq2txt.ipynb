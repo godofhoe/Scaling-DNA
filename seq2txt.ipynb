{
 "cells": [
  {
   "cell_type": "code",
   "execution_count": 9,
   "metadata": {},
   "outputs": [],
   "source": [
    "import pandas as pd\n",
    "import matplotlib.pyplot as plt\n",
    "import numpy as np\n",
    "from scipy.optimize import curve_fit"
   ]
  },
  {
   "cell_type": "code",
   "execution_count": 10,
   "metadata": {},
   "outputs": [],
   "source": [
    "def seq2list(filename = 'mart_export.xlsx'):\n",
    "    xl = pd.read_excel(filename)\n",
    "    print(xl.head())\n",
    "    word, syl = [], []\n",
    "    for i in range(len(xl['Transcript stable ID'])):\n",
    "        word.append(xl['Transcript stable ID'][i])\n",
    "        syl.append(xl['Interpro ID'][i])\n",
    "    data = {}\n",
    "    data['word'] = word\n",
    "    data['syl'] = syl\n",
    "    protein_domain = pd.DataFrame(data)\n",
    "    \n",
    "    word_list = []\n",
    "    for i in range(len(protein_domain['word'])):\n",
    "        tem_word = protein_domain['word'][i]\n",
    "        if i == 0:\n",
    "            old_word = protein_domain['word'][0]\n",
    "            tem_syl = protein_domain['syl'][0]\n",
    "        else:\n",
    "            if tem_word == old_word:\n",
    "                check_syl = tem_syl.split('-')\n",
    "                \n",
    "                if protein_domain['syl'][i] not in check_syl:   \n",
    "                #The above \"if\" is used to prevent domain from being counted twice \n",
    "                #  when there are two identical domains in one protein.\n",
    "                    tem_syl = tem_syl + '-' + protein_domain['syl'][i]\n",
    "            elif tem_word != old_word:\n",
    "                word_list.append(tem_syl)\n",
    "                old_word = tem_word\n",
    "                tem_syl = protein_domain['syl'][i]\n",
    "    return word_list\n",
    "\n",
    "def list2txt(word_list, filename):\n",
    "    with open(filename, 'w') as txt:\n",
    "        for i in word_list:\n",
    "            if type(i) == str:\n",
    "                txt.write(' ')\n",
    "                txt.write(str(i))"
   ]
  },
  {
   "cell_type": "code",
   "execution_count": 12,
   "metadata": {},
   "outputs": [
    {
     "name": "stdout",
     "output_type": "stream",
     "text": [
      "       Gene stable ID Gene stable ID version Transcript stable ID  \\\n",
      "0  ENSRNOG00000030644   ENSRNOG00000030644.4   ENSRNOT00000047550   \n",
      "1  ENSRNOG00000030644   ENSRNOG00000030644.4   ENSRNOT00000047550   \n",
      "2  ENSRNOG00000030644   ENSRNOG00000030644.4   ENSRNOT00000047550   \n",
      "3  ENSRNOG00000030644   ENSRNOG00000030644.4   ENSRNOT00000047550   \n",
      "4  ENSRNOG00000030644   ENSRNOG00000030644.4   ENSRNOT00000047550   \n",
      "\n",
      "  Transcript stable ID version Interpro ID  \\\n",
      "0         ENSRNOT00000047550.4   IPR001694   \n",
      "1         ENSRNOT00000047550.4   IPR001694   \n",
      "2         ENSRNOT00000047550.4   IPR001694   \n",
      "3         ENSRNOT00000047550.4   IPR018086   \n",
      "4         ENSRNOT00000047550.4   IPR018086   \n",
      "\n",
      "                                Interpro Description  \n",
      "0  NADH:ubiquinone oxidoreductase, subunit 1/F420...  \n",
      "1  NADH:ubiquinone oxidoreductase, subunit 1/F420...  \n",
      "2  NADH:ubiquinone oxidoreductase, subunit 1/F420...  \n",
      "3  NADH:ubiquinone oxidoreductase, subunit 1, con...  \n",
      "4  NADH:ubiquinone oxidoreductase, subunit 1, con...  \n"
     ]
    }
   ],
   "source": [
    "filename = 'mart_rat.xls'\n",
    "name = filename.split('.')[0].split('_')[1]\n",
    "\n",
    "w = seq2list(filename)\n",
    "list2txt(w, name + '.txt')"
   ]
  },
  {
   "cell_type": "code",
   "execution_count": null,
   "metadata": {},
   "outputs": [],
   "source": []
  },
  {
   "cell_type": "code",
   "execution_count": null,
   "metadata": {},
   "outputs": [],
   "source": []
  }
 ],
 "metadata": {
  "kernelspec": {
   "display_name": "Python 3",
   "language": "python",
   "name": "python3"
  },
  "language_info": {
   "codemirror_mode": {
    "name": "ipython",
    "version": 3
   },
   "file_extension": ".py",
   "mimetype": "text/x-python",
   "name": "python",
   "nbconvert_exporter": "python",
   "pygments_lexer": "ipython3",
   "version": "3.7.4"
  }
 },
 "nbformat": 4,
 "nbformat_minor": 2
}
